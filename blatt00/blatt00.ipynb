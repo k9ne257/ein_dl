{
 "cells": [
  {
   "metadata": {},
   "cell_type": "markdown",
   "source": [
    "# Aufgabe 1\n",
    "\n",
    "Implementieren Sie ein Perzeptron zur binären Klassifikation mit Python und Numpy.\n",
    "Ihr Code sollte eine Methode train(x,y) haben, die einen Numpy-Array x an Eingabedaten\n",
    "und einen gleich langen Numpy-Array y an Labels bekommt und eine Methode infer(x), die\n",
    "einen Numpy-Array x an Eingabedaten bekommt und Labels dazu zurück gibt. Sie können sich\n",
    "die Aufgabe erleichtern, wenn Sie nur xi ∈ R2 zulassen, also dass die Instanzen der Daten jeweils\n",
    "zweidimensional sind (und damit ist x eine Punktmenge in der Ebene). "
   ],
   "id": "86074c970c13b07a"
  },
  {
   "metadata": {
    "ExecuteTime": {
     "end_time": "2024-10-13T23:33:56.116081Z",
     "start_time": "2024-10-13T23:33:54.476025Z"
    }
   },
   "cell_type": "code",
   "source": [
    "import numpy as np\n",
    "\n",
    "class Perceptron:\n",
    "    def __init__(self, learning_rate=0.01, epochs=1000):\n",
    "        self.learning_rate = learning_rate\n",
    "        self.epochs = epochs\n",
    "        # Weights\n",
    "        self.W = None\n",
    "        # Bias\n",
    "        self.b = None\n",
    "\n",
    "    def train(self, x, y):\n",
    "        num_of_samples, num_of_features = x.shape\n",
    "\n",
    "        # Initialisiere Gewichte und Bias mit Nullen\n",
    "        self.W = np.zeros(num_of_features)\n",
    "        self.b = 0\n",
    "\n",
    "        # Iteriere über die Anzahl der Epochen\n",
    "        for _ in range(self.epochs):\n",
    "            for i, j in enumerate(x):\n",
    "                linear_output = np.dot(j, self.W) + self.b\n",
    "                # Aktiviere die Funktion (Schrittfunktion)\n",
    "                y_pred = self._activation_function(linear_output)\n",
    "                \n",
    "                # Update der Gewichte und des Bias, falls es einen Fehler gibt\n",
    "                update = self.learning_rate * (y[i] - y_pred)\n",
    "                self.W += update * j\n",
    "                self.b += update\n",
    "\n",
    "    def infer(self, x):\n",
    "        # Wendet die Gewichtung und den Bias auf die Eingabedaten an und gibt die Vorhersage zurück\n",
    "        linear_output = np.dot(x, self.W) + self.b\n",
    "        y_pred = self._activation_function(linear_output)\n",
    "        return y_pred\n",
    "\n",
    "    def _activation_function(self, x):\n",
    "        # Schrittfunktion: Rückgabe 1, wenn der Input >= 0 ist, sonst -1\n",
    "        return np.where(x >= 0, 1, -1)\n",
    "\n",
    "# Beispielnutzung des Perzeptrons:\n",
    "\n",
    "# Erstellen von Trainingsdaten (Punkte im R²) und ihren Labels\n",
    "x_train = np.array([[1, 1], [2, 2], [1, -1], [-2, -2]])\n",
    "y_train = np.array([1, 1, -1, -1])\n",
    "\n",
    "# Erstellen und Trainieren des Perzeptrons\n",
    "perceptron = Perceptron(learning_rate=0.1, epochs=10)\n",
    "perceptron.train(x_train, y_train)\n",
    "\n",
    "# Inferenzen auf neuen Daten\n",
    "x_test = np.array([[0.5, 0.5], [-1, -1], [3, 3]])\n",
    "predictions = perceptron.infer(x_test)\n",
    "print(\"Vorhersagen:\", predictions)\n"
   ],
   "id": "4ed22be0cd4c09ec",
   "outputs": [
    {
     "name": "stdout",
     "output_type": "stream",
     "text": [
      "Vorhersagen: [ 1 -1  1]\n"
     ]
    }
   ],
   "execution_count": 2
  },
  {
   "metadata": {},
   "cell_type": "markdown",
   "source": [
    "# Aufgabe 2\n",
    "Generieren Sie geeignete synthetische Daten für eine binäre Klassifikation. Dazu\n",
    "dürfen Sie auch Scipy und Scikit-learn verwenden. Ihr Code sollte das in einer Methode generate\n",
    "tun. Sie haben bei der Verteilung der Daten freie Hand."
   ],
   "id": "f356d7f40a7a5850"
  },
  {
   "metadata": {},
   "cell_type": "code",
   "outputs": [],
   "execution_count": null,
   "source": "",
   "id": "798f9667e0412e0"
  },
  {
   "metadata": {},
   "cell_type": "markdown",
   "source": [
    "# Aufgabe 3\n",
    "\n",
    "Evaluieren Sie Ihre Implementierung des Perzeptrons systematisch anhand der\n",
    "synthetischen Daten und einem Train-Test-Split. Dazu dürfen Sie auch Scipy und Scikit-learn\n",
    "verwenden. Ihr Programm sollte das bei Aufruf von python blatt1.py ausführen und mit\n",
    "print den Fehler (Anteil der falsch klassifizierten) ausgeben. In einem Notebook sollte das Ergebnis\n",
    "nach Ausführen aller Zellen zu sehen sein."
   ],
   "id": "66be9ab9ae2715c8"
  },
  {
   "metadata": {},
   "cell_type": "code",
   "outputs": [],
   "execution_count": null,
   "source": "",
   "id": "ac8b9ee5b54f0dad"
  },
  {
   "metadata": {},
   "cell_type": "markdown",
   "source": [
    "# Aufgabe 4\n",
    "\n",
    "Evaluieren Sie Ihre Implementierung des Perzeptrons anhand des Iris-Flower-Datasets,\n",
    "aus dem Sie nur die Spezies ‘setosa’ und ‘versicolor’ auswählen. Dazu dürfen Sie auch Scipy\n",
    "und Scikit-learn verwenden. Geben Sie mit print den Fehler auf dem gesamten Datensatz nach\n",
    "Training auf dem gesamten Datensatz aus.\n",
    "Wenn Sie sich das ganze visualisieren möchten, empfiehlt sich, aus dem Iris-Flower-Datensatz\n",
    "zwei Attribute auszuwählen. Achtung: es macht einen Unterschied, ob der ganze Datensatz (mit 4\n",
    "Attributen) zum Training verwendet wird und nur die Visualisierung in 2 Dimensionen stattfindet,\n",
    "oder ob bereits das Training mit nur 2 Attributen durchgeführt wird. Überlegen Sie sich, warum."
   ],
   "id": "f61449408b476158"
  },
  {
   "metadata": {},
   "cell_type": "code",
   "outputs": [],
   "execution_count": null,
   "source": "",
   "id": "dbe9a71c9e821ccd"
  }
 ],
 "metadata": {
  "kernelspec": {
   "display_name": "Python 3",
   "language": "python",
   "name": "python3"
  },
  "language_info": {
   "codemirror_mode": {
    "name": "ipython",
    "version": 2
   },
   "file_extension": ".py",
   "mimetype": "text/x-python",
   "name": "python",
   "nbconvert_exporter": "python",
   "pygments_lexer": "ipython2",
   "version": "2.7.6"
  }
 },
 "nbformat": 4,
 "nbformat_minor": 5
}
