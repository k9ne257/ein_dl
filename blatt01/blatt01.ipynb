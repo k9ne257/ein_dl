{
 "cells": [
  {
   "metadata": {},
   "cell_type": "markdown",
   "source": [
    "# Aufgabe 1\n",
    "\n",
    "Implementieren Sie ein Perzeptron zur binären Klassifikation mit Python und Numpy.\n",
    "Ihr Code sollte eine Methode train(x,y) haben, die einen Numpy-Array x an Eingabedaten\n",
    "und einen gleich langen Numpy-Array y an Labels bekommt und eine Methode infer(x), die\n",
    "einen Numpy-Array x an Eingabedaten bekommt und Labels dazu zurück gibt. Sie können sich\n",
    "die Aufgabe erleichtern, wenn Sie nur xi ∈ R2 zulassen, also dass die Instanzen der Daten jeweils\n",
    "zweidimensional sind (und damit ist x eine Punktmenge in der Ebene). "
   ],
   "id": "86074c970c13b07a"
  },
  {
   "metadata": {
    "ExecuteTime": {
     "end_time": "2024-10-15T18:56:36.669446Z",
     "start_time": "2024-10-15T18:56:34.848005Z"
    }
   },
   "cell_type": "code",
   "source": [
    "import numpy as np\n",
    "import matplotlib.pyplot as plt"
   ],
   "id": "31bf488e2faa0243",
   "outputs": [],
   "execution_count": 1
  },
  {
   "metadata": {
    "ExecuteTime": {
     "end_time": "2024-10-13T23:33:56.116081Z",
     "start_time": "2024-10-13T23:33:54.476025Z"
    }
   },
   "cell_type": "code",
   "source": [
    "def predict(w, x):\n",
    "    return 1 if np.dot(w, x) > 0 else 0"
   ],
   "id": "4ed22be0cd4c09ec",
   "outputs": [
    {
     "name": "stdout",
     "output_type": "stream",
     "text": [
      "Vorhersagen: [ 1 -1  1]\n"
     ]
    }
   ],
   "execution_count": 2
  },
  {
   "metadata": {},
   "cell_type": "code",
   "outputs": [],
   "execution_count": null,
   "source": [
    "def fit(xs,ys, learn_rate=0.01):\n",
    "    w = np.ones_like(xs[0], dtype=\"float64\")\n",
    "    for x, y in zip(xs, ys):\n",
    "        w = perceptron_single_update(w, x, y,learn_rate)\n",
    "    return w\n"
   ],
   "id": "8b7fcaec356916fc"
  },
  {
   "metadata": {},
   "cell_type": "code",
   "outputs": [],
   "execution_count": null,
   "source": [
    "def infer(w,x):\n",
    "        # Wendet die Gewichtung und den Bias auf die Eingabedaten an und gibt die Vorhersage zurück\n",
    "        linear_output = np.dot(x, w) + bias\n",
    "        y_pred = self._activation_function(linear_output)\n",
    "        return y_pred"
   ],
   "id": "c6abfe4e1c0ca98"
  },
  {
   "metadata": {
    "ExecuteTime": {
     "end_time": "2024-10-15T19:05:23.482151Z",
     "start_time": "2024-10-15T19:05:23.458886Z"
    }
   },
   "cell_type": "code",
   "source": [
    "class Perceptron:\n",
    "    def __init__(self, learning_rate=0.01, epochs=1000):\n",
    "        self.learning_rate = learning_rate\n",
    "        self.weights = None\n",
    "        self.bias = None\n",
    "\n",
    "    def train(self, x, y):\n",
    "        # x.shape[0] gibt die Anzahl der Datenpunkte zurück, x.shape[1] die Anzahl der Features (hier 2)\n",
    "        n_samples, n_features = x.shape\n",
    "\n",
    "        # Initialisiere Gewichte und Bias mit Nullen\n",
    "        self.weights = np.zeros(n_features)\n",
    "        self.bias = 0\n",
    "\n",
    "        # Iteriere über die Anzahl der Epochen\n",
    "        for i, j in enumerate(x):\n",
    "            linear_output = np.dot(j, self.weights) + self.bias\n",
    "            y_pred = self._activation_function(linear_output)\n",
    "            \n",
    "            # Update der Gewichte und des Bias, falls es einen Fehler gibt\n",
    "            update_value = self.update(i, y, y_pred)\n",
    "            self.weights += update_value * j\n",
    "            self.bias += update_value\n",
    "\n",
    "    def update(self, i, y, y_pred):\n",
    "        return self.learning_rate * (y[i] - y_pred)\n",
    "\n",
    "    def infer(self, x):\n",
    "        # Wendet die Gewichtung und den Bias auf die Eingabedaten an und gibt die Vorhersage zurück\n",
    "        linear_output = np.dot(x, self.weights) + self.bias\n",
    "        y_pred = self._activation_function(linear_output)\n",
    "        return y_pred\n",
    "\n",
    "    def activation_function(self, x):\n",
    "        # Schrittfunktion: Rückgabe 1, wenn der Input >= 0 ist, sonst -1\n",
    "        return np.where(x >= 0, 1, -1)"
   ],
   "id": "59bd8b82ef39779a",
   "outputs": [],
   "execution_count": 2
  },
  {
   "metadata": {},
   "cell_type": "markdown",
   "source": [
    "# Aufgabe 2\n",
    "Generieren Sie geeignete synthetische Daten für eine binäre Klassifikation. Dazu\n",
    "dürfen Sie auch Scipy und Scikit-learn verwenden. Ihr Code sollte das in einer Methode generate\n",
    "tun. Sie haben bei der Verteilung der Daten freie Hand."
   ],
   "id": "f356d7f40a7a5850"
  },
  {
   "metadata": {},
   "cell_type": "code",
   "outputs": [],
   "execution_count": null,
   "source": [
    "import numpy as np\n",
    "from sklearn.datasets import make_classification\n"
   ],
   "id": "798f9667e0412e0"
  },
  {
   "metadata": {},
   "cell_type": "code",
   "outputs": [],
   "execution_count": null,
   "source": [
    "def generate(self):\n",
    "        # Verwende scikit-learn, um eine synthetische binäre Klassifikationsaufgabe zu erstellen\n",
    "        # Mit zwei Features: z.B. Motorleistung und Gewicht\n",
    "        x, y = make_classification(n_samples=self.n_samples, \n",
    "                                   n_features=self.n_features, \n",
    "                                   n_informative=self.n_features, \n",
    "                                   n_redundant=0, \n",
    "                                   n_clusters_per_class=1,\n",
    "                                   class_sep=2.0,  # separiert die Klassen besser\n",
    "                                   flip_y=0.01,  # ein kleiner Anteil von zufälligen Labels\n",
    "                                   random_state=42)\n",
    "        \n",
    "        # Um die Labels als 1 und -1 anstatt 0 und 1 zu bekommen, ändern wir die Labels:\n",
    "        y = np.where(y == 0, -1, 1)"
   ],
   "id": "9f1ef7eb38dbae9"
  },
  {
   "metadata": {},
   "cell_type": "code",
   "outputs": [],
   "execution_count": null,
   "source": "",
   "id": "e2b8d9a479c3245e"
  },
  {
   "metadata": {},
   "cell_type": "markdown",
   "source": [
    "# Aufgabe 3\n",
    "\n",
    "Evaluieren Sie Ihre Implementierung des Perzeptrons systematisch anhand der\n",
    "synthetischen Daten und einem Train-Test-Split. Dazu dürfen Sie auch Scipy und Scikit-learn\n",
    "verwenden. Ihr Programm sollte das bei Aufruf von python blatt1.py ausführen und mit\n",
    "print den Fehler (Anteil der falsch klassifizierten) ausgeben. In einem Notebook sollte das Ergebnis\n",
    "nach Ausführen aller Zellen zu sehen sein."
   ],
   "id": "66be9ab9ae2715c8"
  },
  {
   "metadata": {},
   "cell_type": "code",
   "outputs": [],
   "execution_count": null,
   "source": "",
   "id": "ac8b9ee5b54f0dad"
  },
  {
   "metadata": {},
   "cell_type": "markdown",
   "source": [
    "# Aufgabe 4\n",
    "\n",
    "Evaluieren Sie Ihre Implementierung des Perzeptrons anhand des Iris-Flower-Datasets,\n",
    "aus dem Sie nur die Spezies ‘setosa’ und ‘versicolor’ auswählen. Dazu dürfen Sie auch Scipy\n",
    "und Scikit-learn verwenden. Geben Sie mit print den Fehler auf dem gesamten Datensatz nach\n",
    "Training auf dem gesamten Datensatz aus.\n",
    "Wenn Sie sich das ganze visualisieren möchten, empfiehlt sich, aus dem Iris-Flower-Datensatz\n",
    "zwei Attribute auszuwählen. Achtung: es macht einen Unterschied, ob der ganze Datensatz (mit 4\n",
    "Attributen) zum Training verwendet wird und nur die Visualisierung in 2 Dimensionen stattfindet,\n",
    "oder ob bereits das Training mit nur 2 Attributen durchgeführt wird. Überlegen Sie sich, warum."
   ],
   "id": "f61449408b476158"
  },
  {
   "metadata": {},
   "cell_type": "code",
   "outputs": [],
   "execution_count": null,
   "source": "",
   "id": "dbe9a71c9e821ccd"
  }
 ],
 "metadata": {
  "kernelspec": {
   "display_name": "Python 3",
   "language": "python",
   "name": "python3"
  },
  "language_info": {
   "codemirror_mode": {
    "name": "ipython",
    "version": 2
   },
   "file_extension": ".py",
   "mimetype": "text/x-python",
   "name": "python",
   "nbconvert_exporter": "python",
   "pygments_lexer": "ipython2",
   "version": "2.7.6"
  }
 },
 "nbformat": 4,
 "nbformat_minor": 5
}
