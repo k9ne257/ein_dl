{
 "cells": [
  {
   "metadata": {},
   "cell_type": "markdown",
   "source": [
    "# Aufgabe 1\n",
    "\n",
    "Implementieren Sie ein Perzeptron zur binären Klassifikation mit Python und Numpy.\n",
    "Ihr Code sollte eine Methode train(x,y) haben, die einen Numpy-Array x an Eingabedaten\n",
    "und einen gleich langen Numpy-Array y an Labels bekommt und eine Methode infer(x), die\n",
    "einen Numpy-Array x an Eingabedaten bekommt und Labels dazu zurück gibt. Sie können sich\n",
    "die Aufgabe erleichtern, wenn Sie nur xi ∈ R2 zulassen, also dass die Instanzen der Daten jeweils\n",
    "zweidimensional sind (und damit ist x eine Punktmenge in der Ebene). "
   ],
   "id": "86074c970c13b07a"
  },
  {
   "metadata": {
    "ExecuteTime": {
     "end_time": "2024-10-15T18:56:36.669446Z",
     "start_time": "2024-10-15T18:56:34.848005Z"
    }
   },
   "cell_type": "code",
   "source": [
    "import numpy as np\n",
    "import matplotlib.pyplot as plt"
   ],
   "id": "31bf488e2faa0243",
   "outputs": [],
   "execution_count": 1
  },
  {
   "metadata": {
    "ExecuteTime": {
     "end_time": "2024-10-13T23:33:56.116081Z",
     "start_time": "2024-10-13T23:33:54.476025Z"
    }
   },
   "cell_type": "code",
   "source": [
    "def predict(w, x):\n",
    "    return 1 if np.dot(w, x) > 0 else 0"
   ],
   "id": "4ed22be0cd4c09ec",
   "outputs": [
    {
     "name": "stdout",
     "output_type": "stream",
     "text": [
      "Vorhersagen: [ 1 -1  1]\n"
     ]
    }
   ],
   "execution_count": 2
  },
  {
   "metadata": {},
   "cell_type": "code",
   "outputs": [],
   "execution_count": null,
   "source": [
    "def fit(xs,ys, learn_rate=0.01):\n",
    "    w = np.ones_like(xs[0], dtype=\"float64\")\n",
    "    for x, y in zip(xs, ys):\n",
    "        w = perceptron_single_update(w, x, y,learn_rate)\n",
    "    return w\n"
   ],
   "id": "8b7fcaec356916fc"
  },
  {
   "metadata": {},
   "cell_type": "code",
   "outputs": [],
   "execution_count": null,
   "source": [
    "def infer(w,x):\n",
    "        # Wendet die Gewichtung und den Bias auf die Eingabedaten an und gibt die Vorhersage zurück\n",
    "        linear_output = np.dot(x, w) + bias\n",
    "        y_pred = self._activation_function(linear_output)\n",
    "        return y_pred"
   ],
   "id": "c6abfe4e1c0ca98"
  },
  {
   "metadata": {
    "ExecuteTime": {
     "end_time": "2024-10-15T19:05:23.482151Z",
     "start_time": "2024-10-15T19:05:23.458886Z"
    }
   },
   "cell_type": "code",
   "source": [
    "class Perceptron:\n",
    "    def __init__(self, learning_rate=0.01, epochs=1000):\n",
    "        self.learning_rate = learning_rate\n",
    "        self.weights = None\n",
    "        self.bias = None\n",
    "\n",
    "    def train(self, x, y):\n",
    "        # x.shape[0] gibt die Anzahl der Datenpunkte zurück, x.shape[1] die Anzahl der Features (hier 2)\n",
    "        n_samples, n_features = x.shape\n",
    "\n",
    "        # Initialisiere Gewichte und Bias mit Nullen\n",
    "        self.weights = np.zeros(n_features)\n",
    "        self.bias = 0\n",
    "\n",
    "        # Iteriere über die Anzahl der Epochen\n",
    "        for i, j in enumerate(x):\n",
    "            linear_output = np.dot(j, self.weights) + self.bias\n",
    "            y_pred = self._activation_function(linear_output)\n",
    "            \n",
    "            # Update der Gewichte und des Bias, falls es einen Fehler gibt\n",
    "            update_value = self.update(i, y, y_pred)\n",
    "            self.weights += update_value * j\n",
    "            self.bias += update_value\n",
    "\n",
    "    def update(self, i, y, y_pred):\n",
    "        return self.learning_rate * (y[i] - y_pred)\n",
    "\n",
    "    def infer(self, x):\n",
    "        # Wendet die Gewichtung und den Bias auf die Eingabedaten an und gibt die Vorhersage zurück\n",
    "        linear_output = np.dot(x, self.weights) + self.bias\n",
    "        y_pred = self._activation_function(linear_output)\n",
    "        return y_pred\n",
    "\n",
    "    def activation_function(self, x):\n",
    "        # Schrittfunktion: Rückgabe 1, wenn der Input >= 0 ist, sonst -1\n",
    "        return np.where(x >= 0, 1, -1)"
   ],
   "id": "59bd8b82ef39779a",
   "outputs": [],
   "execution_count": 2
  },
  {
   "metadata": {},
   "cell_type": "markdown",
   "source": [
    "# Aufgabe 2\n",
    "Generieren Sie geeignete synthetische Daten für eine binäre Klassifikation. Dazu\n",
    "dürfen Sie auch Scipy und Scikit-learn verwenden. Ihr Code sollte das in einer Methode generate\n",
    "tun. Sie haben bei der Verteilung der Daten freie Hand."
   ],
   "id": "f356d7f40a7a5850"
  },
  {
   "metadata": {
    "ExecuteTime": {
     "end_time": "2024-10-15T19:10:35.644090Z",
     "start_time": "2024-10-15T19:10:33.602199Z"
    }
   },
   "cell_type": "code",
   "source": [
    "from sklearn.datasets import make_classification\n",
    "import matplotlib.pyplot as plt"
   ],
   "id": "798f9667e0412e0",
   "outputs": [],
   "execution_count": 3
  },
  {
   "metadata": {
    "ExecuteTime": {
     "end_time": "2024-10-16T09:24:41.999818Z",
     "start_time": "2024-10-16T09:24:41.981545Z"
    }
   },
   "cell_type": "code",
   "source": [
    "def generate():\n",
    "    return make_classification(n_samples=100, \n",
    "                                   n_features=2, \n",
    "                                   n_informative=2, \n",
    "                                   n_redundant=0, \n",
    "                                   n_clusters_per_class=1,\n",
    "                                   class_sep=2.0,  # separiert die Klassen besser\n",
    "                                   flip_y=0.01,  # ein kleiner Anteil von zufälligen Labels\n",
    "                                   random_state=42)\n",
    "        "
   ],
   "id": "9f1ef7eb38dbae9",
   "outputs": [],
   "execution_count": 29
  },
  {
   "metadata": {
    "ExecuteTime": {
     "end_time": "2024-10-16T09:30:51.657345Z",
     "start_time": "2024-10-16T09:30:51.650924Z"
    }
   },
   "cell_type": "code",
   "source": [
    "def plot_data(x, y):\n",
    "        plt.scatter(x[y == 1][:, 0], x[y == 1][:, 1], color='r', label='Sportlich (1)')\n",
    "        plt.scatter(x[y == -1][:, 0], x[y == -1][:, 1], color='b', label='Nicht sportlich (0)')\n",
    "        plt.title('Synthetische Autodaten')\n",
    "        plt.xlabel('Motorleistung')\n",
    "        plt.ylabel('Gewicht')\n",
    "        plt.legend()\n",
    "        plt.show()\n",
    "        "
   ],
   "id": "e2b8d9a479c3245e",
   "outputs": [],
   "execution_count": 37
  },
  {
   "metadata": {
    "ExecuteTime": {
     "end_time": "2024-10-16T09:25:16.772169Z",
     "start_time": "2024-10-16T09:25:16.335953Z"
    }
   },
   "cell_type": "code",
   "source": [
    "x, y = generate()\n",
    "\n",
    "plot_data(x,y)\n"
   ],
   "id": "55b06f550e44f755",
   "outputs": [
    {
     "data": {
      "text/plain": [
       "<Figure size 432x288 with 1 Axes>"
      ],
      "image/png": "[encoded data removed]"
     },
     "metadata": {
      "needs_background": "light"
     },
     "output_type": "display_data"
    }
   ],
   "execution_count": 34
  },
  {
   "metadata": {},
   "cell_type": "markdown",
   "source": [
    "# Aufgabe 3\n",
    "\n",
    "Evaluieren Sie Ihre Implementierung des Perzeptrons systematisch anhand der\n",
    "synthetischen Daten und einem Train-Test-Split. Dazu dürfen Sie auch Scipy und Scikit-learn\n",
    "verwenden. Ihr Programm sollte das bei Aufruf von python blatt1.py ausführen und mit\n",
    "print den Fehler (Anteil der falsch klassifizierten) ausgeben. In einem Notebook sollte das Ergebnis\n",
    "nach Ausführen aller Zellen zu sehen sein."
   ],
   "id": "66be9ab9ae2715c8"
  },
  {
   "metadata": {
    "ExecuteTime": {
     "end_time": "2024-10-16T09:32:12.579659Z",
     "start_time": "2024-10-16T09:32:12.474526Z"
    }
   },
   "cell_type": "code",
   "source": [
    "from sklearn.model_selection import train_test_split\n",
    "from sklearn.metrics import accuracy_score"
   ],
   "id": "d3eb2594998e4f62",
   "outputs": [],
   "execution_count": 39
  },
  {
   "metadata": {
    "ExecuteTime": {
     "end_time": "2024-10-16T09:40:12.709900Z",
     "start_time": "2024-10-16T09:40:12.699621Z"
    }
   },
   "cell_type": "code",
   "source": [
    "def evaluate_perceptron(x,y):\n",
    "    x_train, x_test, y_train, y_test = train_test_split(x, y, test_size=0.2, random_state=42)\n",
    "\n",
    "    perceptron = Perceptron(learning_rate=0.1, epochs=100)\n",
    "    perceptron.train(x_train, y_train)\n",
    "\n",
    "    y_pred = perceptron.infer(x_test)\n",
    "\n",
    "    accuracy = accuracy_score(y_test, y_pred)\n",
    "    error_rate = 1 - accuracy\n",
    "    print(f'Fehlerrate: {error_rate * 100:.2f}%')\n",
    "\n",
    "x, y = generate()\n",
    "evaluate_perceptron(x,y)"
   ],
   "id": "ac8b9ee5b54f0dad",
   "outputs": [
    {
     "name": "stdout",
     "output_type": "stream",
     "text": [
      "Fehlerrate: 65.00%\n"
     ]
    }
   ],
   "execution_count": 69
  },
  {
   "metadata": {},
   "cell_type": "markdown",
   "source": [
    "# Aufgabe 4\n",
    "\n",
    "Evaluieren Sie Ihre Implementierung des Perzeptrons anhand des Iris-Flower-Datasets,\n",
    "aus dem Sie nur die Spezies ‘setosa’ und ‘versicolor’ auswählen. Dazu dürfen Sie auch Scipy\n",
    "und Scikit-learn verwenden. Geben Sie mit print den Fehler auf dem gesamten Datensatz nach\n",
    "Training auf dem gesamten Datensatz aus.\n",
    "Wenn Sie sich das ganze visualisieren möchten, empfiehlt sich, aus dem Iris-Flower-Datensatz\n",
    "zwei Attribute auszuwählen. Achtung: es macht einen Unterschied, ob der ganze Datensatz (mit 4\n",
    "Attributen) zum Training verwendet wird und nur die Visualisierung in 2 Dimensionen stattfindet,\n",
    "oder ob bereits das Training mit nur 2 Attributen durchgeführt wird. Überlegen Sie sich, warum."
   ],
   "id": "f61449408b476158"
  },
  {
   "metadata": {
    "ExecuteTime": {
     "end_time": "2024-10-16T09:35:16.276026Z",
     "start_time": "2024-10-16T09:35:16.258079Z"
    }
   },
   "cell_type": "code",
   "source": "from sklearn.datasets import load_iris",
   "id": "351676ba9b113c14",
   "outputs": [],
   "execution_count": 42
  },
  {
   "metadata": {
    "ExecuteTime": {
     "end_time": "2024-10-16T09:38:23.261428Z",
     "start_time": "2024-10-16T09:38:23.239437Z"
    }
   },
   "cell_type": "code",
   "source": [
    "iris = load_iris()\n",
    "x = iris['data']\n",
    "y = iris['target']\n",
    "\n",
    "# setosa_versicolor_mask = (y == 0) | (y == 1)\n",
    "# x = x[setosa_versicolor_mask]\n",
    "# y = y[setosa_versicolor_mask]\n",
    "print(x)\n",
    "print(y)"
   ],
   "id": "dbe9a71c9e821ccd",
   "outputs": [
    {
     "name": "stdout",
     "output_type": "stream",
     "text": [
      "[[5.1 3.5 1.4 0.2]\n",
      " [4.9 3.  1.4 0.2]\n",
      " [4.7 3.2 1.3 0.2]\n",
      " [4.6 3.1 1.5 0.2]\n",
      " [5.  3.6 1.4 0.2]\n",
      " [5.4 3.9 1.7 0.4]\n",
      " [4.6 3.4 1.4 0.3]\n",
      " [5.  3.4 1.5 0.2]\n",
      " [4.4 2.9 1.4 0.2]\n",
      " [4.9 3.1 1.5 0.1]\n",
      " [5.4 3.7 1.5 0.2]\n",
      " [4.8 3.4 1.6 0.2]\n",
      " [4.8 3.  1.4 0.1]\n",
      " [4.3 3.  1.1 0.1]\n",
      " [5.8 4.  1.2 0.2]\n",
      " [5.7 4.4 1.5 0.4]\n",
      " [5.4 3.9 1.3 0.4]\n",
      " [5.1 3.5 1.4 0.3]\n",
      " [5.7 3.8 1.7 0.3]\n",
      " [5.1 3.8 1.5 0.3]\n",
      " [5.4 3.4 1.7 0.2]\n",
      " [5.1 3.7 1.5 0.4]\n",
      " [4.6 3.6 1.  0.2]\n",
      " [5.1 3.3 1.7 0.5]\n",
      " [4.8 3.4 1.9 0.2]\n",
      " [5.  3.  1.6 0.2]\n",
      " [5.  3.4 1.6 0.4]\n",
      " [5.2 3.5 1.5 0.2]\n",
      " [5.2 3.4 1.4 0.2]\n",
      " [4.7 3.2 1.6 0.2]\n",
      " [4.8 3.1 1.6 0.2]\n",
      " [5.4 3.4 1.5 0.4]\n",
      " [5.2 4.1 1.5 0.1]\n",
      " [5.5 4.2 1.4 0.2]\n",
      " [4.9 3.1 1.5 0.2]\n",
      " [5.  3.2 1.2 0.2]\n",
      " [5.5 3.5 1.3 0.2]\n",
      " [4.9 3.6 1.4 0.1]\n",
      " [4.4 3.  1.3 0.2]\n",
      " [5.1 3.4 1.5 0.2]\n",
      " [5.  3.5 1.3 0.3]\n",
      " [4.5 2.3 1.3 0.3]\n",
      " [4.4 3.2 1.3 0.2]\n",
      " [5.  3.5 1.6 0.6]\n",
      " [5.1 3.8 1.9 0.4]\n",
      " [4.8 3.  1.4 0.3]\n",
      " [5.1 3.8 1.6 0.2]\n",
      " [4.6 3.2 1.4 0.2]\n",
      " [5.3 3.7 1.5 0.2]\n",
      " [5.  3.3 1.4 0.2]\n",
      " [7.  3.2 4.7 1.4]\n",
      " [6.4 3.2 4.5 1.5]\n",
      " [6.9 3.1 4.9 1.5]\n",
      " [5.5 2.3 4.  1.3]\n",
      " [6.5 2.8 4.6 1.5]\n",
      " [5.7 2.8 4.5 1.3]\n",
      " [6.3 3.3 4.7 1.6]\n",
      " [4.9 2.4 3.3 1. ]\n",
      " [6.6 2.9 4.6 1.3]\n",
      " [5.2 2.7 3.9 1.4]\n",
      " [5.  2.  3.5 1. ]\n",
      " [5.9 3.  4.2 1.5]\n",
      " [6.  2.2 4.  1. ]\n",
      " [6.1 2.9 4.7 1.4]\n",
      " [5.6 2.9 3.6 1.3]\n",
      " [6.7 3.1 4.4 1.4]\n",
      " [5.6 3.  4.5 1.5]\n",
      " [5.8 2.7 4.1 1. ]\n",
      " [6.2 2.2 4.5 1.5]\n",
      " [5.6 2.5 3.9 1.1]\n",
      " [5.9 3.2 4.8 1.8]\n",
      " [6.1 2.8 4.  1.3]\n",
      " [6.3 2.5 4.9 1.5]\n",
      " [6.1 2.8 4.7 1.2]\n",
      " [6.4 2.9 4.3 1.3]\n",
      " [6.6 3.  4.4 1.4]\n",
      " [6.8 2.8 4.8 1.4]\n",
      " [6.7 3.  5.  1.7]\n",
      " [6.  2.9 4.5 1.5]\n",
      " [5.7 2.6 3.5 1. ]\n",
      " [5.5 2.4 3.8 1.1]\n",
      " [5.5 2.4 3.7 1. ]\n",
      " [5.8 2.7 3.9 1.2]\n",
      " [6.  2.7 5.1 1.6]\n",
      " [5.4 3.  4.5 1.5]\n",
      " [6.  3.4 4.5 1.6]\n",
      " [6.7 3.1 4.7 1.5]\n",
      " [6.3 2.3 4.4 1.3]\n",
      " [5.6 3.  4.1 1.3]\n",
      " [5.5 2.5 4.  1.3]\n",
      " [5.5 2.6 4.4 1.2]\n",
      " [6.1 3.  4.6 1.4]\n",
      " [5.8 2.6 4.  1.2]\n",
      " [5.  2.3 3.3 1. ]\n",
      " [5.6 2.7 4.2 1.3]\n",
      " [5.7 3.  4.2 1.2]\n",
      " [5.7 2.9 4.2 1.3]\n",
      " [6.2 2.9 4.3 1.3]\n",
      " [5.1 2.5 3.  1.1]\n",
      " [5.7 2.8 4.1 1.3]\n",
      " [6.3 3.3 6.  2.5]\n",
      " [5.8 2.7 5.1 1.9]\n",
      " [7.1 3.  5.9 2.1]\n",
      " [6.3 2.9 5.6 1.8]\n",
      " [6.5 3.  5.8 2.2]\n",
      " [7.6 3.  6.6 2.1]\n",
      " [4.9 2.5 4.5 1.7]\n",
      " [7.3 2.9 6.3 1.8]\n",
      " [6.7 2.5 5.8 1.8]\n",
      " [7.2 3.6 6.1 2.5]\n",
      " [6.5 3.2 5.1 2. ]\n",
      " [6.4 2.7 5.3 1.9]\n",
      " [6.8 3.  5.5 2.1]\n",
      " [5.7 2.5 5.  2. ]\n",
      " [5.8 2.8 5.1 2.4]\n",
      " [6.4 3.2 5.3 2.3]\n",
      " [6.5 3.  5.5 1.8]\n",
      " [7.7 3.8 6.7 2.2]\n",
      " [7.7 2.6 6.9 2.3]\n",
      " [6.  2.2 5.  1.5]\n",
      " [6.9 3.2 5.7 2.3]\n",
      " [5.6 2.8 4.9 2. ]\n",
      " [7.7 2.8 6.7 2. ]\n",
      " [6.3 2.7 4.9 1.8]\n",
      " [6.7 3.3 5.7 2.1]\n",
      " [7.2 3.2 6.  1.8]\n",
      " [6.2 2.8 4.8 1.8]\n",
      " [6.1 3.  4.9 1.8]\n",
      " [6.4 2.8 5.6 2.1]\n",
      " [7.2 3.  5.8 1.6]\n",
      " [7.4 2.8 6.1 1.9]\n",
      " [7.9 3.8 6.4 2. ]\n",
      " [6.4 2.8 5.6 2.2]\n",
      " [6.3 2.8 5.1 1.5]\n",
      " [6.1 2.6 5.6 1.4]\n",
      " [7.7 3.  6.1 2.3]\n",
      " [6.3 3.4 5.6 2.4]\n",
      " [6.4 3.1 5.5 1.8]\n",
      " [6.  3.  4.8 1.8]\n",
      " [6.9 3.1 5.4 2.1]\n",
      " [6.7 3.1 5.6 2.4]\n",
      " [6.9 3.1 5.1 2.3]\n",
      " [5.8 2.7 5.1 1.9]\n",
      " [6.8 3.2 5.9 2.3]\n",
      " [6.7 3.3 5.7 2.5]\n",
      " [6.7 3.  5.2 2.3]\n",
      " [6.3 2.5 5.  1.9]\n",
      " [6.5 3.  5.2 2. ]\n",
      " [6.2 3.4 5.4 2.3]\n",
      " [5.9 3.  5.1 1.8]]\n",
      "[0 0 0 0 0 0 0 0 0 0 0 0 0 0 0 0 0 0 0 0 0 0 0 0 0 0 0 0 0 0 0 0 0 0 0 0 0\n",
      " 0 0 0 0 0 0 0 0 0 0 0 0 0 1 1 1 1 1 1 1 1 1 1 1 1 1 1 1 1 1 1 1 1 1 1 1 1\n",
      " 1 1 1 1 1 1 1 1 1 1 1 1 1 1 1 1 1 1 1 1 1 1 1 1 1 1 2 2 2 2 2 2 2 2 2 2 2\n",
      " 2 2 2 2 2 2 2 2 2 2 2 2 2 2 2 2 2 2 2 2 2 2 2 2 2 2 2 2 2 2 2 2 2 2 2 2 2\n",
      " 2 2]\n"
     ]
    }
   ],
   "execution_count": 60
  },
  {
   "metadata": {
    "ExecuteTime": {
     "end_time": "2024-10-16T09:38:29.910294Z",
     "start_time": "2024-10-16T09:38:29.901679Z"
    }
   },
   "cell_type": "code",
   "source": "evaluate_perceptron(x, y)",
   "id": "377e1757191c6d01",
   "outputs": [
    {
     "name": "stdout",
     "output_type": "stream",
     "text": [
      "Fehlerrate: 70.00%\n"
     ]
    }
   ],
   "execution_count": 63
  },
  {
   "metadata": {
    "ExecuteTime": {
     "end_time": "2024-10-16T09:49:36.683775Z",
     "start_time": "2024-10-16T09:49:36.539664Z"
    }
   },
   "cell_type": "code",
   "source": [
    "perceptron = Perceptron(learning_rate=0.1, epochs=100)\n",
    "\n",
    "plt.scatter(x[y == 1][:, 0], x[y == 1][:, 1], color='r')\n",
    "# plt.scatter(x[y == -1][:, 0], x[y == -1][:, 1], color='b')\n",
    "# plt.title('Perzeptron-Klassifikation der Iris-Daten')\n",
    "plt.xlabel('Sepal length')\n",
    "plt.ylabel('Sepal width')\n",
    "plt.legend()\n",
    "plt.show()"
   ],
   "id": "679c42f09fd1d7c3",
   "outputs": [
    {
     "name": "stderr",
     "output_type": "stream",
     "text": [
      "No artists with labels found to put in legend.  Note that artists whose label start with an underscore are ignored when legend() is called with no argument.\n"
     ]
    },
    {
     "data": {
      "text/plain": [
       "<Figure size 432x288 with 1 Axes>"
      ],
      "image/png": "[encoded data removed]"
     },
     "metadata": {
      "needs_background": "light"
     },
     "output_type": "display_data"
    }
   ],
   "execution_count": 95
  },
  {
   "metadata": {},
   "cell_type": "markdown",
   "source": "## Teile von Aufgabe 2 und 3 wurden mit Hilfe von Chatgpt erstellt.",
   "id": "2f85e040aec057dd"
  }
 ],
 "metadata": {
  "kernelspec": {
   "display_name": "Python 3",
   "language": "python",
   "name": "python3"
  },
  "language_info": {
   "codemirror_mode": {
    "name": "ipython",
    "version": 2
   },
   "file_extension": ".py",
   "mimetype": "text/x-python",
   "name": "python",
   "nbconvert_exporter": "python",
   "pygments_lexer": "ipython2",
   "version": "2.7.6"
  }
 },
 "nbformat": 4,
 "nbformat_minor": 5
}
